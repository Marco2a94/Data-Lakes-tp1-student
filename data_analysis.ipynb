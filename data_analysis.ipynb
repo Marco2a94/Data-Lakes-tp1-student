{
  "cells": [
    {
      "cell_type": "markdown",
      "metadata": {
        "id": "Etx0pxP2HejP"
      },
      "source": [
        "# PFAM PROTEIN CLASSIFIER - Yvann Vincent"
      ]
    },
    {
      "cell_type": "markdown",
      "metadata": {
        "id": "eGKF7J7nHkMD"
      },
      "source": [
        "This notebook explores data in the PFAM Dataset, where each entry corresponds to a protein accompanied with additional information such as it's amino-acid sequence.\n",
        "\n",
        "The final goals of this notebook are:\n",
        "* To gather descriptive statistics on amino-acid sequences in the dataset\n",
        "* Visualize key elements of the data\n",
        "* Infer a good way to approach the problem"
      ]
    },
    {
      "cell_type": "markdown",
      "metadata": {
        "id": "yn8P0gZVOSih"
      },
      "source": [
        "# IMPORTS"
      ]
    },
    {
      "cell_type": "code",
      "execution_count": 22,
      "metadata": {
        "id": "-N2c086o54-f"
      },
      "outputs": [],
      "source": [
        "import os\n",
        "import gc\n",
        "\n",
        "import numpy as np\n",
        "import pandas as pd\n",
        "import torch, torch.nn as nn\n",
        "import matplotlib.pyplot as plt\n",
        "import seaborn as sns\n",
        "from sklearn.decomposition import PCA\n",
        "from sklearn.manifold import TSNE\n",
        "from torch.utils.data.dataloader import DataLoader"
      ]
    },
    {
      "cell_type": "code",
      "execution_count": 23,
      "metadata": {
        "id": "qIOthravXidX"
      },
      "outputs": [],
      "source": [
        "data = pd.read_csv('data/bronze/combined_data.csv')"
      ]
    },
    {
      "cell_type": "markdown",
      "metadata": {
        "id": "0ssCqDsVb93e"
      },
      "source": [
        "Let's verify that the data has been correctly loaded:"
      ]
    },
    {
      "cell_type": "code",
      "execution_count": 25,
      "metadata": {
        "colab": {
          "base_uri": "https://localhost:8080/",
          "height": 206
        },
        "id": "yUIXH7skcAWo",
        "outputId": "d8ce411f-8409-4623-e8be-ec148e7d68a5"
      },
      "outputs": [
        {
          "data": {
            "application/vnd.microsoft.datawrangler.viewer.v0+json": {
              "columns": [
                {
                  "name": "index",
                  "rawType": "int64",
                  "type": "integer"
                },
                {
                  "name": "family_id",
                  "rawType": "object",
                  "type": "string"
                },
                {
                  "name": "sequence_name",
                  "rawType": "object",
                  "type": "string"
                },
                {
                  "name": "family_accession",
                  "rawType": "object",
                  "type": "string"
                },
                {
                  "name": "aligned_sequence",
                  "rawType": "object",
                  "type": "string"
                },
                {
                  "name": "sequence",
                  "rawType": "object",
                  "type": "string"
                }
              ],
              "conversionMethod": "pd.DataFrame",
              "ref": "94b63f7c-76ca-49e3-a8ed-51723dbde9f9",
              "rows": [
                [
                  "0",
                  "zf-Tim10_DDP",
                  "N1QB11_PSEFD/15-76",
                  "PF02953.15",
                  "..RMEKKQMKDFMNMYSNLVQRCFNDCV...........TD.F....TSKSLQSKE.....EGCV....MRCVDKFLKSSERLGERFQE",
                  "RMEKKQMKDFMNMYSNLVQRCFNDCVTDFTSKSLQSKEEGCVMRCVDKFLKSSERLGERFQE"
                ],
                [
                  "1",
                  "DNA_primase_S",
                  "A8XA78_CAEBR/105-345",
                  "PF01896.19",
                  "FDID..LTDYDNIRNCCKEATVCPKCWKFMVLAVKILDFLLDDMFGFN..ARMWVFSG..........RRG.VHC...WVGDKKAR..MLTNNHRSAVAT.RLNLFKKNGQFE...........ATEGKAKNT.............RVPPIVRDAYNIAMKDGTFGEMVLEQGWLEND.........DFLKDELLLTDKGKKELIENLE.....GYDTPEKRWHALRAMFDEDYRRKLG................SENEFKDYHPQGR.D..RFALHTFVLQKCYPRLDVNVSTGTNHLLKS.PFCIHPKTG.NVAVPLNV",
                  "FDIDLTDYDNIRNCCKEATVCPKCWKFMVLAVKILDFLLDDMFGFNARMWVFSGRRGVHCWVGDKKARMLTNNHRSAVATRLNLFKKNGQFEATEGKAKNTRVPPIVRDAYNIAMKDGTFGEMVLEQGWLENDDFLKDELLLTDKGKKELIENLEGYDTPEKRWHALRAMFDEDYRRKLGSENEFKDYHPQGRDRFALHTFVLQKCYPRLDVNVSTGTNHLLKSPFCIHPKTGNVAVPLNV"
                ],
                [
                  "2",
                  "Col_cuticle_N",
                  "A8XBM5_CAEBR/9-56",
                  "PF01484.17",
                  "ASAAILSGATIVGCLFFAAQIFNEVNSLYDDVMVDMDAFKVKSNIAWD..",
                  "ASAAILSGATIVGCLFFAAQIFNEVNSLYDDVMVDMDAFKVKSNIAWD"
                ],
                [
                  "3",
                  "GST_C_3",
                  "W4XBU3_STRPU/120-207",
                  "PF14497.6",
                  "KD.................................KLKESLPKTVNPILLKFLEKALE........DNPNGN..G.YFV.GQ.DATMVEF....VYFT...FIQNVVNM.........................YPDALA.DY.....PK.........LR.............A.NRDLV.KSRE.KISAYLAKQT",
                  "KDKLKESLPKTVNPILLKFLEKALEDNPNGNGYFVGQDATMVEFVYFTFIQNVVNMYPDALADYPKLRANRDLVKSREKISAYLAKQT"
                ],
                [
                  "4",
                  "Ada_Zn_binding",
                  "E8U5K2_DEIML/9-73",
                  "PF02805.16",
                  "DRWQAVVQRE...AAQ.DG...LFLYAVRTTGIYCRPSCPSRRPR...RENVTFFEAADAAERAGFRPCRRCTPN",
                  "DRWQAVVQREAAQDGLFLYAVRTTGIYCRPSCPSRRPRRENVTFFEAADAAERAGFRPCRRCTPN"
                ]
              ],
              "shape": {
                "columns": 5,
                "rows": 5
              }
            },
            "text/html": [
              "<div>\n",
              "<style scoped>\n",
              "    .dataframe tbody tr th:only-of-type {\n",
              "        vertical-align: middle;\n",
              "    }\n",
              "\n",
              "    .dataframe tbody tr th {\n",
              "        vertical-align: top;\n",
              "    }\n",
              "\n",
              "    .dataframe thead th {\n",
              "        text-align: right;\n",
              "    }\n",
              "</style>\n",
              "<table border=\"1\" class=\"dataframe\">\n",
              "  <thead>\n",
              "    <tr style=\"text-align: right;\">\n",
              "      <th></th>\n",
              "      <th>family_id</th>\n",
              "      <th>sequence_name</th>\n",
              "      <th>family_accession</th>\n",
              "      <th>aligned_sequence</th>\n",
              "      <th>sequence</th>\n",
              "    </tr>\n",
              "  </thead>\n",
              "  <tbody>\n",
              "    <tr>\n",
              "      <th>0</th>\n",
              "      <td>zf-Tim10_DDP</td>\n",
              "      <td>N1QB11_PSEFD/15-76</td>\n",
              "      <td>PF02953.15</td>\n",
              "      <td>..RMEKKQMKDFMNMYSNLVQRCFNDCV...........TD.F......</td>\n",
              "      <td>RMEKKQMKDFMNMYSNLVQRCFNDCVTDFTSKSLQSKEEGCVMRCV...</td>\n",
              "    </tr>\n",
              "    <tr>\n",
              "      <th>1</th>\n",
              "      <td>DNA_primase_S</td>\n",
              "      <td>A8XA78_CAEBR/105-345</td>\n",
              "      <td>PF01896.19</td>\n",
              "      <td>FDID..LTDYDNIRNCCKEATVCPKCWKFMVLAVKILDFLLDDMFG...</td>\n",
              "      <td>FDIDLTDYDNIRNCCKEATVCPKCWKFMVLAVKILDFLLDDMFGFN...</td>\n",
              "    </tr>\n",
              "    <tr>\n",
              "      <th>2</th>\n",
              "      <td>Col_cuticle_N</td>\n",
              "      <td>A8XBM5_CAEBR/9-56</td>\n",
              "      <td>PF01484.17</td>\n",
              "      <td>ASAAILSGATIVGCLFFAAQIFNEVNSLYDDVMVDMDAFKVKSNIA...</td>\n",
              "      <td>ASAAILSGATIVGCLFFAAQIFNEVNSLYDDVMVDMDAFKVKSNIAWD</td>\n",
              "    </tr>\n",
              "    <tr>\n",
              "      <th>3</th>\n",
              "      <td>GST_C_3</td>\n",
              "      <td>W4XBU3_STRPU/120-207</td>\n",
              "      <td>PF14497.6</td>\n",
              "      <td>KD.................................KLKESLPKTVN...</td>\n",
              "      <td>KDKLKESLPKTVNPILLKFLEKALEDNPNGNGYFVGQDATMVEFVY...</td>\n",
              "    </tr>\n",
              "    <tr>\n",
              "      <th>4</th>\n",
              "      <td>Ada_Zn_binding</td>\n",
              "      <td>E8U5K2_DEIML/9-73</td>\n",
              "      <td>PF02805.16</td>\n",
              "      <td>DRWQAVVQRE...AAQ.DG...LFLYAVRTTGIYCRPSCPSRRPR....</td>\n",
              "      <td>DRWQAVVQREAAQDGLFLYAVRTTGIYCRPSCPSRRPRRENVTFFE...</td>\n",
              "    </tr>\n",
              "  </tbody>\n",
              "</table>\n",
              "</div>"
            ],
            "text/plain": [
              "        family_id         sequence_name family_accession  \\\n",
              "0    zf-Tim10_DDP    N1QB11_PSEFD/15-76       PF02953.15   \n",
              "1   DNA_primase_S  A8XA78_CAEBR/105-345       PF01896.19   \n",
              "2   Col_cuticle_N     A8XBM5_CAEBR/9-56       PF01484.17   \n",
              "3         GST_C_3  W4XBU3_STRPU/120-207        PF14497.6   \n",
              "4  Ada_Zn_binding     E8U5K2_DEIML/9-73       PF02805.16   \n",
              "\n",
              "                                    aligned_sequence  \\\n",
              "0  ..RMEKKQMKDFMNMYSNLVQRCFNDCV...........TD.F......   \n",
              "1  FDID..LTDYDNIRNCCKEATVCPKCWKFMVLAVKILDFLLDDMFG...   \n",
              "2  ASAAILSGATIVGCLFFAAQIFNEVNSLYDDVMVDMDAFKVKSNIA...   \n",
              "3  KD.................................KLKESLPKTVN...   \n",
              "4  DRWQAVVQRE...AAQ.DG...LFLYAVRTTGIYCRPSCPSRRPR....   \n",
              "\n",
              "                                            sequence  \n",
              "0  RMEKKQMKDFMNMYSNLVQRCFNDCVTDFTSKSLQSKEEGCVMRCV...  \n",
              "1  FDIDLTDYDNIRNCCKEATVCPKCWKFMVLAVKILDFLLDDMFGFN...  \n",
              "2   ASAAILSGATIVGCLFFAAQIFNEVNSLYDDVMVDMDAFKVKSNIAWD  \n",
              "3  KDKLKESLPKTVNPILLKFLEKALEDNPNGNGYFVGQDATMVEFVY...  \n",
              "4  DRWQAVVQREAAQDGLFLYAVRTTGIYCRPSCPSRRPRRENVTFFE...  "
            ]
          },
          "execution_count": 25,
          "metadata": {},
          "output_type": "execute_result"
        }
      ],
      "source": [
        "data.head()"
      ]
    },
    {
      "cell_type": "markdown",
      "metadata": {
        "id": "Sp7LKbu3Y74k"
      },
      "source": [
        "Now that the data is loaded, we shall try to explore it to see **whether it is suitable for learning**. If not, **why it isn't, and how to transform it** to make it suitable for learning.\n",
        "\n",
        "Some questions that first come to mind are the following:\n",
        "\n",
        "1.   Are classes well balanced? If not, how imbalanced are they? Are there imbalances from one data to another?\n",
        "2.   How to efficiently compensate for these imbalances?\n",
        "3.   How long are protein sequences on average ? In a real life scenarion, this would be a very important question to manage your GPU VRAM during training\n",
        "\n",
        "\n",
        "\n",
        "\n",
        "\n",
        "\n",
        "\n"
      ]
    },
    {
      "cell_type": "markdown",
      "metadata": {
        "id": "l-AZe2g5ceyn"
      },
      "source": [
        "# Class balance"
      ]
    },
    {
      "cell_type": "markdown",
      "metadata": {
        "id": "6Chs4XFpdm-g"
      },
      "source": [
        "As is, the data is the raw and transformations need to be applied to check for potential class imbalance. The PFAM dataset reportedly has entries from 17,930 output classes, therefore it seems likely that some will be over-represented and some under-represented.\n",
        "\n",
        "This needs to be evaluated to develop a proper training protocol later on."
      ]
    },
    {
      "cell_type": "code",
      "execution_count": 26,
      "metadata": {
        "id": "O8CgOToWY4BS"
      },
      "outputs": [],
      "source": [
        "def munge_data(data: pd.DataFrame):\n",
        "  '''\n",
        "  Munges data to extract key insights\n",
        "\n",
        "  Paramaters:\n",
        "  data (pd.DataFrame): Raw DataFrame after unpacking\n",
        "\n",
        "  Returns:\n",
        "  (pd.DataFrame): Munged data \n",
        "  '''\n",
        "  munged_data = {\n",
        "      'sample_count': data.shape[0],\n",
        "      'class_count': data['family_accession'].nunique(),\n",
        "      'min_samples_per_class': data.groupby('family_accession').size().min(),\n",
        "      'max_samples_per_class': data.groupby('family_accession').size().max(),\n",
        "      'mean_samples_per_class': data.groupby('family_accession').size().mean(),\n",
        "      'min_seq_length': data['sequence'].apply(len).min(),\n",
        "      'max_seq_length': data['sequence'].apply(len).max(),\n",
        "      'mean_seq_length': data['sequence'].apply(len).median()\n",
        "  }\n",
        "\n",
        "  return pd.DataFrame([munged_data])"
      ]
    },
    {
      "cell_type": "code",
      "execution_count": 27,
      "metadata": {
        "colab": {
          "base_uri": "https://localhost:8080/",
          "height": 143
        },
        "id": "hdG2gSY4kuO_",
        "outputId": "1e5d24aa-d3c2-4478-9f40-6af439fd9d59"
      },
      "outputs": [
        {
          "data": {
            "application/vnd.microsoft.datawrangler.viewer.v0+json": {
              "columns": [
                {
                  "name": "index",
                  "rawType": "int64",
                  "type": "integer"
                },
                {
                  "name": "sample_count",
                  "rawType": "int64",
                  "type": "integer"
                },
                {
                  "name": "class_count",
                  "rawType": "int64",
                  "type": "integer"
                },
                {
                  "name": "min_samples_per_class",
                  "rawType": "int64",
                  "type": "integer"
                },
                {
                  "name": "max_samples_per_class",
                  "rawType": "int64",
                  "type": "integer"
                },
                {
                  "name": "mean_samples_per_class",
                  "rawType": "float64",
                  "type": "float"
                },
                {
                  "name": "min_seq_length",
                  "rawType": "int64",
                  "type": "integer"
                },
                {
                  "name": "max_seq_length",
                  "rawType": "int64",
                  "type": "integer"
                },
                {
                  "name": "mean_seq_length",
                  "rawType": "float64",
                  "type": "float"
                }
              ],
              "conversionMethod": "pd.DataFrame",
              "ref": "b9956f08-27f6-44a7-ba20-0147269462eb",
              "rows": [
                [
                  "0",
                  "126171",
                  "13071",
                  "1",
                  "454",
                  "9.652742712875831",
                  "9",
                  "1971",
                  "118.0"
                ]
              ],
              "shape": {
                "columns": 8,
                "rows": 1
              }
            },
            "text/html": [
              "<div>\n",
              "<style scoped>\n",
              "    .dataframe tbody tr th:only-of-type {\n",
              "        vertical-align: middle;\n",
              "    }\n",
              "\n",
              "    .dataframe tbody tr th {\n",
              "        vertical-align: top;\n",
              "    }\n",
              "\n",
              "    .dataframe thead th {\n",
              "        text-align: right;\n",
              "    }\n",
              "</style>\n",
              "<table border=\"1\" class=\"dataframe\">\n",
              "  <thead>\n",
              "    <tr style=\"text-align: right;\">\n",
              "      <th></th>\n",
              "      <th>sample_count</th>\n",
              "      <th>class_count</th>\n",
              "      <th>min_samples_per_class</th>\n",
              "      <th>max_samples_per_class</th>\n",
              "      <th>mean_samples_per_class</th>\n",
              "      <th>min_seq_length</th>\n",
              "      <th>max_seq_length</th>\n",
              "      <th>mean_seq_length</th>\n",
              "    </tr>\n",
              "  </thead>\n",
              "  <tbody>\n",
              "    <tr>\n",
              "      <th>0</th>\n",
              "      <td>126171</td>\n",
              "      <td>13071</td>\n",
              "      <td>1</td>\n",
              "      <td>454</td>\n",
              "      <td>9.652743</td>\n",
              "      <td>9</td>\n",
              "      <td>1971</td>\n",
              "      <td>118.0</td>\n",
              "    </tr>\n",
              "  </tbody>\n",
              "</table>\n",
              "</div>"
            ],
            "text/plain": [
              "   sample_count  class_count  min_samples_per_class  max_samples_per_class  \\\n",
              "0        126171        13071                      1                    454   \n",
              "\n",
              "   mean_samples_per_class  min_seq_length  max_seq_length  mean_seq_length  \n",
              "0                9.652743               9            1971            118.0  "
            ]
          },
          "execution_count": 27,
          "metadata": {},
          "output_type": "execute_result"
        }
      ],
      "source": [
        "data_munged = munge_data(data)\n",
        "data_munged"
      ]
    },
    {
      "cell_type": "markdown",
      "metadata": {
        "id": "YtNLe1eIlUu9"
      },
      "source": [
        "The above analysis confirms the following insights:\n",
        "\n",
        "* **Output classes seem to be extremely imbalanced** when looking at min, max and mean number of samples per class\n",
        "* **Sequence lengths look strongly unbalanced too**. However, with the median sequence length being 119, this tends to indicate that all context in most of the sequences can be captured with a model input_size of at least 119. In training, the goal will be to maximize this value to capture as much context as possible while staying in the range of available compute ressources.\n",
        "\n"
      ]
    },
    {
      "cell_type": "markdown",
      "metadata": {
        "id": "e0Isclrw5O5U"
      },
      "source": [
        "Another point we want to verify is that amino-acid sequences are similarly distributed in terms of average length per class and samples per class between partitions.\n",
        "\n",
        "Using seaborn, let's visualize these distributions to gain visual insight into the data:"
      ]
    },
    {
      "cell_type": "markdown",
      "metadata": {},
      "source": [
        "# Class Distribution Plot"
      ]
    },
    {
      "cell_type": "code",
      "execution_count": 28,
      "metadata": {},
      "outputs": [
        {
          "ename": "NameError",
          "evalue": "name 'family_sizes' is not defined",
          "output_type": "error",
          "traceback": [
            "\u001b[1;31m---------------------------------------------------------------------------\u001b[0m",
            "\u001b[1;31mNameError\u001b[0m                                 Traceback (most recent call last)",
            "Cell \u001b[1;32mIn[28], line 10\u001b[0m\n\u001b[0;32m      7\u001b[0m family_size \u001b[38;5;241m=\u001b[39m data[\u001b[38;5;124m'\u001b[39m\u001b[38;5;124mfamily_id\u001b[39m\u001b[38;5;124m'\u001b[39m]\u001b[38;5;241m.\u001b[39mvalue_counts()\n\u001b[0;32m      8\u001b[0m class_distribution \u001b[38;5;241m=\u001b[39m family_size\u001b[38;5;241m.\u001b[39mvalue_counts()\u001b[38;5;241m.\u001b[39msort_index()\n\u001b[1;32m---> 10\u001b[0m sns\u001b[38;5;241m.\u001b[39mhistplot(data\u001b[38;5;241m=\u001b[39mfamily_sizes, bins\u001b[38;5;241m=\u001b[39m\u001b[38;5;241m100\u001b[39m, ax\u001b[38;5;241m=\u001b[39max, color\u001b[38;5;241m=\u001b[39m\u001b[38;5;124m'\u001b[39m\u001b[38;5;124mblue\u001b[39m\u001b[38;5;124m'\u001b[39m, kde\u001b[38;5;241m=\u001b[39m\u001b[38;5;28;01mFalse\u001b[39;00m, alpha\u001b[38;5;241m=\u001b[39m\u001b[38;5;241m0.15\u001b[39m)\n\u001b[0;32m     12\u001b[0m plt\u001b[38;5;241m.\u001b[39myscale(\u001b[38;5;124m'\u001b[39m\u001b[38;5;124mlog\u001b[39m\u001b[38;5;124m'\u001b[39m)\n\u001b[0;32m     14\u001b[0m fig\u001b[38;5;241m.\u001b[39msuptitle(\u001b[38;5;124m'\u001b[39m\u001b[38;5;124mPFAM Class Distribution\u001b[39m\u001b[38;5;124m'\u001b[39m)\n",
            "\u001b[1;31mNameError\u001b[0m: name 'family_sizes' is not defined"
          ]
        },
        {
          "data": {
            "image/png": "[encoded data removed]",
            "text/plain": [
              "<Figure size 2000x1000 with 1 Axes>"
            ]
          },
          "metadata": {},
          "output_type": "display_data"
        }
      ],
      "source": [
        "# Visualize protein count per family size to visualize class imbalance\n",
        "\n",
        "fig, ax = plt.subplots(figsize=(20,10))\n",
        "colors = ['blue']\n",
        "sns.set_theme(style=\"whitegrid\")\n",
        "\n",
        "family_size = data['family_id'].value_counts()\n",
        "class_distribution = family_size.value_counts().sort_index()\n",
        "\n",
        "sns.histplot(data=family_sizes, bins=100, ax=ax, color='blue', kde=False, alpha=0.15)\n",
        "\n",
        "plt.yscale('log')\n",
        "\n",
        "fig.suptitle('PFAM Class Distribution')"
      ]
    },
    {
      "cell_type": "code",
      "execution_count": 29,
      "metadata": {},
      "outputs": [
        {
          "data": {
            "image/png": "[encoded data removed]",
            "text/plain": [
              "<Figure size 2000x1000 with 1 Axes>"
            ]
          },
          "metadata": {},
          "output_type": "display_data"
        }
      ],
      "source": [
        "# Définir le style\n",
        "sns.set_theme(style=\"whitegrid\")\n",
        "\n",
        "# Étape 1 : compter combien de protéines par famille\n",
        "family_sizes = data['family_id'].value_counts()\n",
        "\n",
        "# Étape 2 : compter combien de familles ont N protéines\n",
        "class_distribution = family_sizes.value_counts().sort_index()\n",
        "\n",
        "# Étape 3 : tracer la distribution avec un barplot\n",
        "fig, ax = plt.subplots(figsize=(20, 10))\n",
        "ax.bar(class_distribution.index, class_distribution.values, color='blue', alpha=0.6)\n",
        "\n",
        "# Échelle logarithmique sur l'axe Y\n",
        "ax.set_yscale('log')\n",
        "\n",
        "# Titres et labels\n",
        "ax.set_xlabel(\"Nombre de protéines par famille (taille de la famille)\")\n",
        "ax.set_ylabel(\"Nombre de familles (fréquence)\")\n",
        "fig.suptitle(\"PFAM Class Distribution\")\n",
        "\n",
        "plt.tight_layout()\n",
        "plt.show()"
      ]
    },
    {
      "cell_type": "code",
      "execution_count": 20,
      "metadata": {},
      "outputs": [
        {
          "data": {
            "text/plain": [
              "count\n",
              "1      2819\n",
              "2      1754\n",
              "3      1200\n",
              "4       944\n",
              "5       725\n",
              "       ... \n",
              "190       1\n",
              "192       1\n",
              "219       1\n",
              "240       1\n",
              "454       1\n",
              "Name: count, Length: 135, dtype: int64"
            ]
          },
          "execution_count": 20,
          "metadata": {},
          "output_type": "execute_result"
        }
      ],
      "source": [
        "class_distribution"
      ]
    },
    {
      "cell_type": "code",
      "execution_count": 30,
      "metadata": {
        "colab": {
          "base_uri": "https://localhost:8080/",
          "height": 975
        },
        "id": "1JN_vX3y75_z",
        "outputId": "2b654ce3-bc80-448c-9782-5f9e20e3d06f"
      },
      "outputs": [
        {
          "data": {
            "text/plain": [
              "Text(0.5, 1.0, 'Distribution of amino acids per sequence')"
            ]
          },
          "execution_count": 30,
          "metadata": {},
          "output_type": "execute_result"
        },
        {
          "data": {
            "image/png": "[encoded data removed]",
            "text/plain": [
              "<Figure size 2000x1000 with 1 Axes>"
            ]
          },
          "metadata": {},
          "output_type": "display_data"
        }
      ],
      "source": [
        "# Visualize the distribution of sequence lenghts\n",
        "fig, ax = plt.subplots(figsize=(20,10))\n",
        "\n",
        "seq_lenghts = data['sequence'].apply(len).value_counts()\n",
        "\n",
        "ax.set_xlabel('Sequence length')\n",
        "ax.set_ylabel('Amino Acid count')\n",
        "\n",
        "sns.histplot(data=seq_lenghts, bins=50, ax=ax, color='green', kde=True, alpha=0.15)\n",
        "\n",
        "\n",
        "ax.set_title('Distribution of amino acids per sequence')"
      ]
    },
    {
      "cell_type": "markdown",
      "metadata": {
        "id": "lIyWvk8AFZUm"
      },
      "source": [
        "Some amino acid sequences are extremely long. However, those are a minority, as both the graph and earlier statistics show that AA sequence length tends to gravitate towards the lower end of the spectrum."
      ]
    },
    {
      "cell_type": "markdown",
      "metadata": {
        "id": "aNz1QFGI30rg"
      },
      "source": [
        "# Compensate the imbalance\n",
        "\n"
      ]
    },
    {
      "cell_type": "markdown",
      "metadata": {
        "id": "-LiQhBdDJH_D"
      },
      "source": [
        "Firstly, here are a list of methods you will now be using to compensate the imbalance and why :\n",
        "\n",
        "* **Class weights** : Class weights could be used in the training loss to balance out gradients. The idea behind class weights is for each class to be givevn a weight inversely proportional to the size it takes in the dataset. This ensures entries from all classes can be equally represented when training a Machine Learning model on imbalanced data.\n",
        "* **Custom Stratified Split** : As we have seen, a large amount of classes only have 2 representatives for 3 sets. To split the data into a train, val and test set, you will need to think of a custom way to stratify the split accross these three sets. *Imagine you are a Data Engineer in a real life scenario, and the priority is to have data to evaluate the performance of the model the Machine Learning Engineers you work with will train*.\n",
        "* \n",
        "\n"
      ]
    }
  ],
  "metadata": {
    "accelerator": "GPU",
    "colab": {
      "gpuType": "T4",
      "provenance": []
    },
    "gpuClass": "standard",
    "kernelspec": {
      "display_name": "Python 3",
      "name": "python3"
    },
    "language_info": {
      "codemirror_mode": {
        "name": "ipython",
        "version": 3
      },
      "file_extension": ".py",
      "mimetype": "text/x-python",
      "name": "python",
      "nbconvert_exporter": "python",
      "pygments_lexer": "ipython3",
      "version": "3.12.9"
    }
  },
  "nbformat": 4,
  "nbformat_minor": 0
}
